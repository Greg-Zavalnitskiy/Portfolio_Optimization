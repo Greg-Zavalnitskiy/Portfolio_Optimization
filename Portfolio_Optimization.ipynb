{
 "cells": [
  {
   "cell_type": "code",
   "execution_count": null,
   "id": "16e14c92",
   "metadata": {},
   "outputs": [],
   "source": [
    "import yfinance as yf\n",
    "import pandas as pd\n",
    "import numpy as np\n",
    "from scipy.optimize import minimize\n",
    "import matplotlib.pyplot as plt\n",
    "\n",
    "data = yf.download(tickers = \"SPY AAPL MSFT GOOG TSLA VTI TLT\",  \n",
    "            period = \"5y\",         \n",
    "            interval = \"1d\",       \n",
    "            ignore_tz = True,      \n",
    "            prepost = True) \n"
   ]
  },
  {
   "cell_type": "code",
   "execution_count": null,
   "id": "f8c8fa9c",
   "metadata": {},
   "outputs": [],
   "source": [
    "data = data[\"Adj Close\"]\n",
    "print(len(data))\n",
    "new_df=pd.DataFrame()\n",
    "tickers = [\"AAPL\",\"GOOG\" , \"MSFT\", \"SPY\", \"TLT\", \"TSLA\", \"VTI\"]\n",
    "print(tickers)"
   ]
  },
  {
   "cell_type": "code",
   "execution_count": null,
   "id": "31321973",
   "metadata": {},
   "outputs": [],
   "source": [
    "stock_dividends = [yf.Ticker(ticker).dividends for ticker in tickers]"
   ]
  },
  {
   "cell_type": "code",
   "execution_count": null,
   "id": "3687c517",
   "metadata": {},
   "outputs": [],
   "source": [
    "for i,k in enumerate(data.columns):\n",
    "    print(k,i)\n",
    "    print(data[k].values)\n",
    "    new_df[tickers[i]] = data[k].values"
   ]
  },
  {
   "cell_type": "code",
   "execution_count": null,
   "id": "e6fd6224",
   "metadata": {},
   "outputs": [],
   "source": [
    "new_df"
   ]
  },
  {
   "cell_type": "code",
   "execution_count": null,
   "id": "130b0232",
   "metadata": {},
   "outputs": [],
   "source": [
    "number_of_assets = 7\n",
    "returns = new_df.pct_change()\n",
    "\n",
    "returns = returns.iloc[1:]\n",
    "\n",
    "mean_daily_returns = returns.mean()\n",
    "cov_matrix = returns.cov()\n",
    "print(returns)\n",
    "def rand_weights(n):\n",
    "    \n",
    "    k = np.random.rand(n)\n",
    "    return k / sum(k)\n",
    "\n",
    "weights = rand_weights(number_of_assets)\n",
    "\n",
    "portfolio_return = round(np.sum(mean_daily_returns * weights) * 252,2)\n",
    "\n",
    "portfolio_std_dev = round(np.sqrt(np.dot(weights.T,np.dot(cov_matrix, weights))) * np.sqrt(252),2)\n",
    "\n"
   ]
  },
  {
   "cell_type": "code",
   "execution_count": null,
   "id": "bdc2f271",
   "metadata": {},
   "outputs": [],
   "source": [
    "\n",
    "num_portfolios = 300\n",
    "simulated_returns = []\n",
    "simulated_standard_deviation = []\n",
    "\n",
    "for i in range(num_portfolios):\n",
    "    p = np.asmatrix(np.mean(returns, axis=1))\n",
    "    w = np.asmatrix(rand_weights(returns.shape[0]))\n",
    "    C = np.asmatrix(np.cov(returns))\n",
    "\n",
    "    mu = w * p.T\n",
    "    sigma = np.sqrt(w * C * w.T)\n",
    "    simulated_returns.append(np.array(mu)[0]*252)\n",
    "    simulated_standard_deviation.append(np.array(sigma)[0]*252)\n",
    "    \n",
    "fig = plt.figure()\n",
    "plt.plot(simulated_returns, simulated_standard_deviation, 'o', markersize=5)\n",
    "plt.xlabel('Standard Deviation')\n",
    "plt.ylabel('Mean Return')\n",
    "plt.title('300 Randomly Generated Markowitz Portfolios')\n",
    "plt.savefig('Markowitz1.png')"
   ]
  },
  {
   "cell_type": "code",
   "execution_count": null,
   "id": "d72c9b67",
   "metadata": {},
   "outputs": [],
   "source": [
    "def dividend_yields(stocks,dividends):\n",
    "    #annual dividend yield\n",
    "    yeilds = []\n",
    "    for i,k in enumerate(stocks):\n",
    "        market_price = stocks[k].iloc[-1]\n",
    "        annual_dividends = sum(dividends[i].iloc[-4:])\n",
    "        div_yield = (annual_dividends/market_price)\n",
    "        yeilds.append(div_yield)\n",
    "    return yeilds\n",
    "print(dividend_yields(new_df,stock_dividends))"
   ]
  },
  {
   "cell_type": "code",
   "execution_count": null,
   "id": "bdcd8960",
   "metadata": {},
   "outputs": [],
   "source": [
    "import cvxpy as cp\n",
    "\n",
    "\n",
    "def Portfolio_Optimization(stocks, dividends,desired_div_yeild,max_variance,desired_return):\n",
    "    x = cp.Variable(len(stocks.columns))\n",
    "    yeilds = cp.Parameter(shape=len(stocks.columns), name=\"yeilds\")\n",
    "    min_return = cp.Parameter(shape=len(stocks.columns), name=\"min_return\")\n",
    "    max_var = cp.Parameter(shape=len(stocks.columns), name=\"max_var\")\n",
    "    constraints = []\n",
    "    constraints.append(cp.sum(x) == 1)  # sum of all allocations should be 1\n",
    "    constraints.append(cp.sum(yeilds*x) >= desired_div_yeild) # calculate total dividend yield and enforce >= 3%\n",
    "    constraints.append(cp.sum(min_return*x) >= desired_return)\n",
    "    constraints.append(cp.sum(max_var*x) <= max_variance)\n",
    "    constraints.append(x >= 0)\n",
    "    \n",
    "    returns = stocks.pct_change()\n",
    "    returns = returns.iloc[1:]\n",
    "    weights = rand_weights(number_of_assets)\n",
    "    \n",
    "    yearly_returns = returns.mean()*252\n",
    "    cov_matrix = returns.cov()\n",
    "    portfolio_var = weights.T @ cov_matrix @ weights\n",
    "    portfolio_std = np.sqrt(portfolio_var)\n",
    "    annual_var = np.var(returns) * 252\n",
    "    \n",
    "    dividend_annual = sum(dividend_yields(stocks,dividends))/len(dividend_yields(stocks,dividends))\n",
    "    \n",
    "    \n",
    "    yeilds.value = dividend_yields(stocks,dividends)\n",
    "    min_return.value = np.array([i for i in yearly_returns])\n",
    "    max_var.value = np.array([var for var in annual_var])\n",
    "    \n",
    "    expected_returns = sum([i for i in yearly_returns])/len(yearly_returns)\n",
    "    objective = cp.Maximize(expected_returns * portfolio_std *dividend_annual)\n",
    "\n",
    "    problem = cp.Problem(objective, constraints)\n",
    "    problem.solve()\n",
    "\n",
    "    if problem.status == 'optimal':\n",
    "        allocations = x.value\n",
    "        portfolio_returns = np.dot(allocations, yearly_returns)\n",
    "        portfolio_risk = np.sqrt(np.dot(allocations.T, np.dot(cov_matrix, allocations)))\n",
    "        portfolio_dividends = np.dot(allocations, yeilds.value)\n",
    "        return allocations, portfolio_returns, portfolio_risk, portfolio_dividends\n",
    "    else:\n",
    "        print(\"Optimizations not possivle given constraints\")\n",
    "        return None, None, None, None"
   ]
  },
  {
   "cell_type": "code",
   "execution_count": null,
   "id": "e2f42aab",
   "metadata": {},
   "outputs": [],
   "source": [
    "allocations,portfolio_returns,porfolio_risk,portfolio_div = Portfolio_Optimization(new_df,stock_dividends,.015,.2,.015)\n",
    "print(allocations)\n",
    "print(portfolio_returns)\n",
    "print(porfolio_risk)\n",
    "print(portfolio_div)"
   ]
  },
  {
   "cell_type": "code",
   "execution_count": null,
   "id": "480fcb50",
   "metadata": {},
   "outputs": [],
   "source": [
    "def generate_portfolios(stocks, dividends):\n",
    "    desired_div_yeild,max_variance,desired_return  = np.linspace(0,.015,20),np.linspace(0,.3,20),np.linspace(0,.5,20)\n",
    "    df = pd.DataFrame()\n",
    "    allocations = []\n",
    "    returns = []\n",
    "    risk = []\n",
    "    divs = []\n",
    "    for div in desired_div_yeild:\n",
    "        print(div)\n",
    "        for var in max_variance:          \n",
    "            for ret in desired_return:\n",
    "                try:\n",
    "                    allocation,portfolio_returns,porfolio_risk,portfolio_div = Portfolio_Optimization(stocks, dividends,div,var,ret)\n",
    "                    if len(allocation)>0:\n",
    "                        allocations.append(allocation)\n",
    "                        returns.append(portfolio_returns)\n",
    "                        risk.append(porfolio_risk)\n",
    "                        divs.append(portfolio_div)\n",
    "                    else:\n",
    "                        break\n",
    "                except:\n",
    "                    break\n",
    "    df = pd.DataFrame()      \n",
    "    df[\"Returns\"] = returns\n",
    "    df[\"Risk\"] = risk\n",
    "    df[\"divs\"] = divs\n",
    "    return df"
   ]
  },
  {
   "cell_type": "code",
   "execution_count": null,
   "id": "0025b886",
   "metadata": {},
   "outputs": [],
   "source": [
    "results = generate_portfolios(new_df,stock_dividends)\n",
    "results"
   ]
  },
  {
   "cell_type": "code",
   "execution_count": null,
   "id": "9cf78405",
   "metadata": {},
   "outputs": [],
   "source": [
    "plt.scatter(results[\"Risk\"],results[\"Returns\"] +results[\"divs\"])\n",
    "plt.xlabel('Standard Deviation')\n",
    "plt.ylabel('Mean Yearly Return')\n",
    "plt.title('4182 Generated Optimized Portfolios')\n",
    "plt.savefig('Final.png')\n"
   ]
  }
 ],
 "metadata": {
  "kernelspec": {
   "display_name": "Python 3",
   "language": "python",
   "name": "python3"
  },
  "language_info": {
   "codemirror_mode": {
    "name": "ipython",
    "version": 3
   },
   "file_extension": ".py",
   "mimetype": "text/x-python",
   "name": "python",
   "nbconvert_exporter": "python",
   "pygments_lexer": "ipython3",
   "version": "3.8.8"
  }
 },
 "nbformat": 4,
 "nbformat_minor": 5
}
